{
 "cells": [
  {
   "cell_type": "code",
   "execution_count": 1,
   "metadata": {},
   "outputs": [
    {
     "name": "stderr",
     "output_type": "stream",
     "text": [
      "2023-07-05 13:45:02.639154: I tensorflow/tsl/cuda/cudart_stub.cc:28] Could not find cuda drivers on your machine, GPU will not be used.\n",
      "2023-07-05 13:45:02.667733: I tensorflow/tsl/cuda/cudart_stub.cc:28] Could not find cuda drivers on your machine, GPU will not be used.\n",
      "2023-07-05 13:45:02.668332: I tensorflow/core/platform/cpu_feature_guard.cc:182] This TensorFlow binary is optimized to use available CPU instructions in performance-critical operations.\n",
      "To enable the following instructions: AVX2 FMA, in other operations, rebuild TensorFlow with the appropriate compiler flags.\n",
      "2023-07-05 13:45:03.167694: W tensorflow/compiler/tf2tensorrt/utils/py_utils.cc:38] TF-TRT Warning: Could not find TensorRT\n"
     ]
    }
   ],
   "source": [
    "import os\n",
    "import sys\n",
    "import glob\n",
    "import scipy\n",
    "import mlflow\n",
    "import pickle\n",
    "import shutil\n",
    "import logging\n",
    "import datetime\n",
    "import argparse\n",
    "import commentjson\n",
    "import numpy as np\n",
    "from bunch import Bunch\n",
    "import tensorflow as tf\n",
    "from pathlib import Path\n",
    "from random import randint\n",
    "from collections import OrderedDict\n",
    "from tensorflow.keras import metrics\n",
    "from tensorflow.keras.optimizers import Adam\n",
    "from tensorflow.keras.layers import Dense, Flatten, BatchNormalization, Input\n",
    "from tensorflow.keras.layers import Dropout,  Activation, LeakyReLU, AveragePooling1D\n",
    "\n"
   ]
  },
  {
   "cell_type": "code",
   "execution_count": 2,
   "metadata": {},
   "outputs": [],
   "source": [
    "CONFIG_VERBOSE_WAIVER = ['save_model', 'tracking_uri', 'quiet', 'sim_dir', 'train_writer', 'test_writer', 'valid_writer']\n",
    "class Config(Bunch):\n",
    "    \"\"\" class for handling dicrionary as class attributes \"\"\"\n",
    "\n",
    "    def __init__(self, *args, **kwargs):\n",
    "        super(Config, self).__init__(*args, **kwargs)\n",
    "\n",
    "    def print(self):\n",
    "        line_len = 122\n",
    "        line = \"-\" * line_len\n",
    "        logger.info(line + \"\\n\" +\n",
    "              \"| {:^35s} | {:^80} |\\n\".format('Feature', 'Value') +\n",
    "              \"=\" * line_len)\n",
    "        for key, val in sorted(self.items(), key= lambda x: x[0]):\n",
    "            if isinstance(val, OrderedDict):\n",
    "                raise NotImplementedError(\"Nested configs are not implemented\")\n",
    "            else:\n",
    "                if key not in CONFIG_VERBOSE_WAIVER:\n",
    "                    logger.info(\"| {:35s} | {:80} |\\n\".format(key, str(val)) + line)\n",
    "        logger.info(\"\\n\")\n",
    "\n"
   ]
  },
  {
   "cell_type": "code",
   "execution_count": 4,
   "metadata": {},
   "outputs": [],
   "source": [
    "# Load the Config object from the file\n",
    "file_path = 'config.pickle'  # Path to the saved object file\n",
    "with open(file_path, 'rb') as file:\n",
    "    config = pickle.load(file)\n"
   ]
  }
 ],
 "metadata": {
  "kernelspec": {
   "display_name": "Python 3",
   "language": "python",
   "name": "python3"
  },
  "language_info": {
   "codemirror_mode": {
    "name": "ipython",
    "version": 3
   },
   "file_extension": ".py",
   "mimetype": "text/x-python",
   "name": "python",
   "nbconvert_exporter": "python",
   "pygments_lexer": "ipython3",
   "version": "3.10.6"
  },
  "orig_nbformat": 4
 },
 "nbformat": 4,
 "nbformat_minor": 2
}
