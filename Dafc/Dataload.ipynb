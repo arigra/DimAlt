{
 "cells": [
  {
   "cell_type": "code",
   "execution_count": null,
   "metadata": {},
   "outputs": [
    {
     "ename": "",
     "evalue": "",
     "output_type": "error",
     "traceback": [
      "\u001b[1;31mRunning cells with '/bin/python3' requires the ipykernel package.\n",
      "\u001b[1;31mRun the following command to install 'ipykernel' into the Python environment. \n",
      "\u001b[1;31mCommand: '/bin/python3 -m pip install ipykernel -U --user --force-reinstall'"
     ]
    }
   ],
   "source": [
    "pip --version"
   ]
  },
  {
   "cell_type": "code",
   "execution_count": null,
   "metadata": {},
   "outputs": [
    {
     "ename": "",
     "evalue": "",
     "output_type": "error",
     "traceback": [
      "\u001b[1;31mRunning cells with '/bin/python3' requires the ipykernel package.\n",
      "\u001b[1;31mRun the following command to install 'ipykernel' into the Python environment. \n",
      "\u001b[1;31mCommand: '/bin/python3 -m pip install ipykernel -U --user --force-reinstall'"
     ]
    }
   ],
   "source": [
    "import argparse\n",
    "import sys\n",
    "import os"
   ]
  },
  {
   "cell_type": "code",
   "execution_count": null,
   "metadata": {},
   "outputs": [
    {
     "ename": "",
     "evalue": "",
     "output_type": "error",
     "traceback": [
      "\u001b[1;31mRunning cells with '/bin/python3' requires the ipykernel package.\n",
      "\u001b[1;31mRun the following command to install 'ipykernel' into the Python environment. \n",
      "\u001b[1;31mCommand: '/bin/python3 -m pip install ipykernel -U --user --force-reinstall'"
     ]
    }
   ],
   "source": [
    "def get_args():\n",
    "    argparser = argparse.ArgumentParser(description=__doc__)\n",
    "    argparser.add_argument('--config', default=None, type=str, help='path to config file')\n",
    "    argparser.add_argument('--seed', default=None, type=int, help='randomization seed')\n",
    "    argparser.add_argument('--exp_name', default=None, type=int, help='Experiment name')\n",
    "    argparser.add_argument('--num_targets', default=None, type=int, help='Number of simulated targets')\n",
    "    argparser.set_defaults(quiet=False)\n",
    "   \n",
    "    args, unknown = argparser.parse_known_args(sys.argv[1:])\n",
    "    return args"
   ]
  },
  {
   "cell_type": "code",
   "execution_count": null,
   "metadata": {},
   "outputs": [
    {
     "ename": "",
     "evalue": "",
     "output_type": "error",
     "traceback": [
      "\u001b[1;31mRunning cells with '/bin/python3' requires the ipykernel package.\n",
      "\u001b[1;31mRun the following command to install 'ipykernel' into the Python environment. \n",
      "\u001b[1;31mCommand: '/bin/python3 -m pip install ipykernel -U --user --force-reinstall'"
     ]
    }
   ],
   "source": [
    "def read_config(args):\n",
    "    \"\"\" read config from json file and update by the command line arguments \"\"\"\n",
    "    if args.config is not None:\n",
    "        json_file = args.config\n",
    "    else:\n",
    "        raise ValueError(\"preprocess config: config path wasn't specified\")\n",
    "\n",
    "    config_dict = read_json_to_dict(json_file)\n",
    "    config = Config(config_dict)\n",
    "\n",
    "    for arg in sorted(vars(args)):\n",
    "        key = arg\n",
    "        val = getattr(args, arg)\n",
    "        if val is not None:\n",
    "            setattr(config, key, val)\n",
    "\n",
    "    if args.seed is None and config.seed is None:\n",
    "        config.seed = randint(0, MAX_SEED)\n",
    "\n",
    "    return config"
   ]
  },
  {
   "cell_type": "code",
   "execution_count": null,
   "metadata": {},
   "outputs": [
    {
     "ename": "",
     "evalue": "",
     "output_type": "error",
     "traceback": [
      "\u001b[1;31mRunning cells with '/bin/python3' requires the ipykernel package.\n",
      "\u001b[1;31mRun the following command to install 'ipykernel' into the Python environment. \n",
      "\u001b[1;31mCommand: '/bin/python3 -m pip install ipykernel -U --user --force-reinstall'"
     ]
    }
   ],
   "source": [
    "def read_config():\n",
    "    json_file = '/kaggle/input/data/config.json'\n",
    "    config_dict = read_json_to_dict(json_file)\n",
    "    config = Config(config_dict)\n",
    "    config.seed = randint(0, MAX_SEED)\n",
    "    return config"
   ]
  },
  {
   "cell_type": "code",
   "execution_count": null,
   "metadata": {},
   "outputs": [
    {
     "ename": "",
     "evalue": "",
     "output_type": "error",
     "traceback": [
      "\u001b[1;31mRunning cells with '/bin/python3' requires the ipykernel package.\n",
      "\u001b[1;31mRun the following command to install 'ipykernel' into the Python environment. \n",
      "\u001b[1;31mCommand: '/bin/python3 -m pip install ipykernel -U --user --force-reinstall'"
     ]
    }
   ],
   "source": [
    "def read_json_to_dict(fname):\n",
    "    \"\"\" read json config file into ordered-dict \"\"\"\n",
    "    fname = Path(fname)\n",
    "    with fname.open('rt') as handle:\n",
    "        config_dict = commentjson.load(handle, object_hook=OrderedDict)\n",
    "        return config_dict"
   ]
  },
  {
   "cell_type": "code",
   "execution_count": null,
   "metadata": {},
   "outputs": [
    {
     "ename": "",
     "evalue": "",
     "output_type": "error",
     "traceback": [
      "\u001b[1;31mRunning cells with '/bin/python3' requires the ipykernel package.\n",
      "\u001b[1;31mRun the following command to install 'ipykernel' into the Python environment. \n",
      "\u001b[1;31mCommand: '/bin/python3 -m pip install ipykernel -U --user --force-reinstall'"
     ]
    }
   ],
   "source": [
    "def gpu_init():\n",
    "    \"\"\" Allows GPU memory growth \"\"\"\n",
    "\n",
    "    gpus = tf.config.experimental.list_physical_devices('GPU')\n",
    "    logger.info(\"Num GPUs Available: \", len(tf.config.experimental.list_physical_devices('GPU')))\n",
    "    if gpus:\n",
    "        try:\n",
    "            # Currently, memory growth needs to be the same across GPUs\n",
    "            for gpu in gpus:\n",
    "                tf.config.experimental.set_memory_growth(gpu, True)\n",
    "            logical_gpus = tf.config.experimental.list_logical_devices('GPU')\n",
    "            logger.info(len(gpus), \"Physical GPUs,\", len(logical_gpus), \"Logical GPUs\")\n",
    "        except RuntimeError as e:\n",
    "            # Memory growth must be set before GPUs have been initialized\n",
    "            logger.info(\"MESSAGE\", e)\n"
   ]
  },
  {
   "cell_type": "code",
   "execution_count": null,
   "metadata": {},
   "outputs": [
    {
     "ename": "",
     "evalue": "",
     "output_type": "error",
     "traceback": [
      "\u001b[1;31mRunning cells with '/bin/python3' requires the ipykernel package.\n",
      "\u001b[1;31mRun the following command to install 'ipykernel' into the Python environment. \n",
      "\u001b[1;31mCommand: '/bin/python3 -m pip install ipykernel -U --user --force-reinstall'"
     ]
    }
   ],
   "source": [
    "def set_logger_and_tracker(config):\n",
    "    ''' configure the mlflow tracker:\n",
    "        1. set tracking location (uri)\n",
    "        2. configure exp name/id\n",
    "        3. define parameters to be documented\n",
    "    '''\n",
    "\n",
    "    config.exp_name_time = \"{}_{}_{}\".format(config.exp_name,datetime.datetime.now().strftime(\"%Y-%m-%d_%H-%M-%S\"),config.seed)\n",
    "    config.tensor_board_dir = os.path.join('..',\n",
    "                                           'results',\n",
    "                                           config.exp_name,\n",
    "                                           config.exp_name_time)\n",
    "\n",
    "    if not os.path.exists(config.tensor_board_dir):\n",
    "        os.makedirs(config.tensor_board_dir)"
   ]
  },
  {
   "cell_type": "code",
   "execution_count": null,
   "metadata": {},
   "outputs": [
    {
     "ename": "",
     "evalue": "",
     "output_type": "error",
     "traceback": [
      "\u001b[1;31mRunning cells with '/bin/python3' requires the ipykernel package.\n",
      "\u001b[1;31mRun the following command to install 'ipykernel' into the Python environment. \n",
      "\u001b[1;31mCommand: '/bin/python3 -m pip install ipykernel -U --user --force-reinstall'"
     ]
    }
   ],
   "source": [
    "def save_scripts(config,SRC_DIR):\n",
    "    path = os.path.join(config.tensor_board_dir, 'scripts')\n",
    "    if not os.path.exists(path):\n",
    "        os.makedirs(path)\n",
    "    scripts_to_save = glob.glob('{}/**/*.py'.format(SRC_DIR), recursive=True) + [config.config]\n",
    "    scripts_to_save = [script for script in scripts_to_save if '{}/results'.format(SRC_DIR) not in script]\n",
    "    if scripts_to_save is not None:\n",
    "        for script in scripts_to_save:\n",
    "            dst_file = os.path.join(path, os.path.basename(script))\n",
    "            try:\n",
    "                shutil.copyfile(os.path.join(os.path.dirname(sys.argv[0]), script), dst_file)\n",
    "            except:\n",
    "                print()"
   ]
  },
  {
   "cell_type": "code",
   "execution_count": null,
   "metadata": {},
   "outputs": [
    {
     "ename": "",
     "evalue": "",
     "output_type": "error",
     "traceback": [
      "\u001b[1;31mRunning cells with '/bin/python3' requires the ipykernel package.\n",
      "\u001b[1;31mRun the following command to install 'ipykernel' into the Python environment. \n",
      "\u001b[1;31mCommand: '/bin/python3 -m pip install ipykernel -U --user --force-reinstall'"
     ]
    }
   ],
   "source": [
    "def print_config(config):\n",
    "    print('')\n",
    "    print('#' * 70)\n",
    "    print('Configurations at beginning of run')\n",
    "    print('#' * 70)\n",
    "    for key in config.keys():\n",
    "        print('{}, {}'.format(key,config['{}'.format(key)]))\n",
    "    print('')\n",
    "    print('')"
   ]
  },
  {
   "cell_type": "code",
   "execution_count": null,
   "metadata": {},
   "outputs": [
    {
     "ename": "",
     "evalue": "",
     "output_type": "error",
     "traceback": [
      "\u001b[1;31mRunning cells with '/bin/python3' requires the ipykernel package.\n",
      "\u001b[1;31mRun the following command to install 'ipykernel' into the Python environment. \n",
      "\u001b[1;31mCommand: '/bin/python3 -m pip install ipykernel -U --user --force-reinstall'"
     ]
    }
   ],
   "source": [
    "def preprocess_meta_data(SRC_DIR):\n",
    "    \"\"\" preprocess the config for specific run:\n",
    "            1. reads command line arguments\n",
    "            2. updates the config file and set gpu config\n",
    "            3. configure gpu settings\n",
    "            4. Define logger\n",
    "            5. Save scripts\n",
    "    \"\"\"\n",
    "\n",
    "    args = get_args()\n",
    "\n",
    "    config = read_config(args)\n",
    "\n",
    "    gpu_init()\n",
    "\n",
    "    set_logger_and_tracker(config)\n",
    "\n",
    "    save_scripts(config,SRC_DIR)\n",
    "\n",
    "    print_config(config)\n",
    "\n",
    "    return config\n"
   ]
  },
  {
   "cell_type": "code",
   "execution_count": null,
   "metadata": {},
   "outputs": [
    {
     "ename": "",
     "evalue": "",
     "output_type": "error",
     "traceback": [
      "\u001b[1;31mRunning cells with '/bin/python3' requires the ipykernel package.\n",
      "\u001b[1;31mRun the following command to install 'ipykernel' into the Python environment. \n",
      "\u001b[1;31mCommand: '/bin/python3 -m pip install ipykernel -U --user --force-reinstall'"
     ]
    }
   ],
   "source": [
    "config = preprocess_meta_data(SRC_DIR)"
   ]
  }
 ],
 "metadata": {
  "kernelspec": {
   "display_name": "Python 3",
   "language": "python",
   "name": "python3"
  },
  "language_info": {
   "name": "python",
   "version": "3.10.4"
  },
  "orig_nbformat": 4
 },
 "nbformat": 4,
 "nbformat_minor": 2
}
