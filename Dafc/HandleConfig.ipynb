{
 "cells": [
  {
   "attachments": {},
   "cell_type": "markdown",
   "metadata": {},
   "source": [
    "## Imports"
   ]
  },
  {
   "cell_type": "code",
   "execution_count": 1,
   "metadata": {},
   "outputs": [
    {
     "name": "stderr",
     "output_type": "stream",
     "text": [
      "2023-07-05 13:17:28.840896: I tensorflow/tsl/cuda/cudart_stub.cc:28] Could not find cuda drivers on your machine, GPU will not be used.\n",
      "2023-07-05 13:17:28.868967: I tensorflow/tsl/cuda/cudart_stub.cc:28] Could not find cuda drivers on your machine, GPU will not be used.\n",
      "2023-07-05 13:17:28.869655: I tensorflow/core/platform/cpu_feature_guard.cc:182] This TensorFlow binary is optimized to use available CPU instructions in performance-critical operations.\n",
      "To enable the following instructions: AVX2 FMA, in other operations, rebuild TensorFlow with the appropriate compiler flags.\n",
      "2023-07-05 13:17:29.353028: W tensorflow/compiler/tf2tensorrt/utils/py_utils.cc:38] TF-TRT Warning: Could not find TensorRT\n"
     ]
    }
   ],
   "source": [
    "import os\n",
    "import sys\n",
    "import glob\n",
    "import scipy\n",
    "import mlflow\n",
    "import pickle\n",
    "import shutil\n",
    "import logging\n",
    "import datetime\n",
    "import argparse\n",
    "import commentjson\n",
    "import numpy as np\n",
    "from bunch import Bunch\n",
    "import tensorflow as tf\n",
    "from pathlib import Path\n",
    "from random import randint\n",
    "from collections import OrderedDict\n",
    "from tensorflow.keras import metrics\n",
    "from tensorflow.keras.optimizers import Adam\n",
    "from tensorflow.keras.layers import Dense, Flatten, BatchNormalization, Input\n",
    "from tensorflow.keras.layers import Dropout,  Activation, LeakyReLU, AveragePooling1D\n",
    "\n"
   ]
  },
  {
   "attachments": {},
   "cell_type": "markdown",
   "metadata": {},
   "source": [
    "### Define logger"
   ]
  },
  {
   "cell_type": "code",
   "execution_count": 2,
   "metadata": {},
   "outputs": [],
   "source": [
    "logger = logging.getLogger(\"logger\")"
   ]
  },
  {
   "attachments": {},
   "cell_type": "markdown",
   "metadata": {},
   "source": [
    "### Config class definition"
   ]
  },
  {
   "cell_type": "code",
   "execution_count": 3,
   "metadata": {},
   "outputs": [],
   "source": [
    "CONFIG_VERBOSE_WAIVER = ['save_model', 'tracking_uri', 'quiet', 'sim_dir', 'train_writer', 'test_writer', 'valid_writer']\n",
    "class Config(Bunch):\n",
    "    \"\"\" class for handling dicrionary as class attributes \"\"\"\n",
    "\n",
    "    def __init__(self, *args, **kwargs):\n",
    "        super(Config, self).__init__(*args, **kwargs)\n",
    "\n",
    "    def print(self):\n",
    "        line_len = 122\n",
    "        line = \"-\" * line_len\n",
    "        logger.info(line + \"\\n\" +\n",
    "              \"| {:^35s} | {:^80} |\\n\".format('Feature', 'Value') +\n",
    "              \"=\" * line_len)\n",
    "        for key, val in sorted(self.items(), key= lambda x: x[0]):\n",
    "            if isinstance(val, OrderedDict):\n",
    "                raise NotImplementedError(\"Nested configs are not implemented\")\n",
    "            else:\n",
    "                if key not in CONFIG_VERBOSE_WAIVER:\n",
    "                    logger.info(\"| {:35s} | {:80} |\\n\".format(key, str(val)) + line)\n",
    "        logger.info(\"\\n\")\n",
    "\n"
   ]
  },
  {
   "attachments": {},
   "cell_type": "markdown",
   "metadata": {},
   "source": [
    "### define arguments"
   ]
  },
  {
   "cell_type": "code",
   "execution_count": 4,
   "metadata": {},
   "outputs": [],
   "source": [
    "def get_args(argv):\n",
    "    argparser = argparse.ArgumentParser(description=__doc__)\n",
    "    argparser.add_argument('--config', default=None, type=str, help='path to config file')\n",
    "    argparser.add_argument('--seed', default=None, type=int, help='randomization seed')\n",
    "    argparser.add_argument('--exp_name', default=None, type=int, help='Experiment name')\n",
    "    argparser.add_argument('--num_targets', default=None, type=int, help='Number of simulated targets')\n",
    "    argparser.set_defaults(quiet=False)\n",
    "    args, unknown = argparser.parse_known_args(argv)\n",
    "    #args = argparser.parse_args()\n",
    "\n",
    "    return args\n"
   ]
  },
  {
   "attachments": {},
   "cell_type": "markdown",
   "metadata": {},
   "source": [
    "### Read the config file"
   ]
  },
  {
   "cell_type": "code",
   "execution_count": 5,
   "metadata": {},
   "outputs": [],
   "source": [
    "def read_json_to_dict(fname):\n",
    "    \"\"\" read json config file into ordered-dict \"\"\"\n",
    "    fname = Path(fname)\n",
    "    with fname.open('rt') as handle:\n",
    "        config_dict = commentjson.load(handle, object_hook=OrderedDict)\n",
    "        return config_dict\n",
    "    "
   ]
  },
  {
   "cell_type": "code",
   "execution_count": 6,
   "metadata": {},
   "outputs": [],
   "source": [
    "def read_config(args):\n",
    "    \"\"\" read config from json file and update by the command line arguments \"\"\"\n",
    "    if args.config is not None:\n",
    "        json_file = args.config\n",
    "    else:\n",
    "        json_file = \"/home/leshkar/Desktop/BGU/configs/config.json\"  # Replace with your default config file path\n",
    "\n",
    "    config_dict = read_json_to_dict(json_file)\n",
    "    config = Config(config_dict)\n",
    "\n",
    "    for arg in sorted(vars(args)):\n",
    "        key = arg\n",
    "        val = getattr(args, arg)\n",
    "        if val is not None:\n",
    "            setattr(config, key, val)\n",
    "\n",
    "    if args.seed is None and config.seed is None:\n",
    "        \n",
    "        MAX_SEED = sys.maxsize\n",
    "        config.seed = randint(0, MAX_SEED)\n",
    "\n",
    "    return config\n"
   ]
  },
  {
   "attachments": {},
   "cell_type": "markdown",
   "metadata": {},
   "source": [
    "### GPU initialization"
   ]
  },
  {
   "cell_type": "code",
   "execution_count": 7,
   "metadata": {},
   "outputs": [],
   "source": [
    "def gpu_init():\n",
    "    \"\"\" Allows GPU memory growth \"\"\"\n",
    "\n",
    "    gpus = tf.config.experimental.list_physical_devices('GPU')\n",
    "    logger.info(\"Num GPUs Available: \", len(tf.config.experimental.list_physical_devices('GPU')))\n",
    "    if gpus:\n",
    "        try:\n",
    "            # Currently, memory growth needs to be the same across GPUs\n",
    "            for gpu in gpus:\n",
    "                tf.config.experimental.set_memory_growth(gpu, True)\n",
    "            logical_gpus = tf.config.experimental.list_logical_devices('GPU')\n",
    "            logger.info(len(gpus), \"Physical GPUs,\", len(logical_gpus), \"Logical GPUs\")\n",
    "        except RuntimeError as e:\n",
    "            # Memory growth must be set before GPUs have been initialized\n",
    "            logger.info(\"MESSAGE\", e)\n"
   ]
  },
  {
   "attachments": {},
   "cell_type": "markdown",
   "metadata": {},
   "source": [
    "### Logger and tracker"
   ]
  },
  {
   "cell_type": "code",
   "execution_count": 8,
   "metadata": {},
   "outputs": [],
   "source": [
    "def set_logger_and_tracker(config):\n",
    "    ''' configure the mlflow tracker:\n",
    "        1. set tracking location (uri)\n",
    "        2. configure exp name/id\n",
    "        3. define parameters to be documented\n",
    "    '''\n",
    "\n",
    "    config.exp_name_time = \"{}_{}_{}\".format(config.exp_name,datetime.datetime.now().strftime(\"%Y-%m-%d_%H-%M-%S\"),config.seed)\n",
    "    config.tensor_board_dir = os.path.join('..',\n",
    "                                           'results',\n",
    "                                           config.exp_name,\n",
    "                                           config.exp_name_time)\n",
    "\n",
    "    if not os.path.exists(config.tensor_board_dir):\n",
    "        os.makedirs(config.tensor_board_dir)\n"
   ]
  },
  {
   "attachments": {},
   "cell_type": "markdown",
   "metadata": {},
   "source": [
    "def save_scripts(config,SRC_DIR):\n",
    "    path = os.path.join(config.tensor_board_dir, 'scripts')\n",
    "    if not os.path.exists(path):\n",
    "        os.makedirs(path)\n",
    "    scripts_to_save = glob.glob('{}/**/*.py'.format(SRC_DIR), recursive=True) + [config.config]\n",
    "    scripts_to_save = [script for script in scripts_to_save if '{}/results'.format(SRC_DIR) not in script]\n",
    "    if scripts_to_save is not None:\n",
    "        for script in scripts_to_save:\n",
    "            dst_file = os.path.join(path, os.path.basename(script))\n",
    "            try:\n",
    "                shutil.copyfile(os.path.join(os.path.dirname(sys.argv[0]), script), dst_file)\n",
    "            except:\n",
    "                print()"
   ]
  },
  {
   "cell_type": "code",
   "execution_count": 9,
   "metadata": {},
   "outputs": [],
   "source": [
    "def print_config(config):\n",
    "    print('')\n",
    "    print('#' * 70)\n",
    "    print('Configurations at beginning of run')\n",
    "    print('#' * 70)\n",
    "    for key in config.keys():\n",
    "        print('{}, {}'.format(key,config['{}'.format(key)]))\n",
    "    print('')\n",
    "    print('')"
   ]
  },
  {
   "cell_type": "code",
   "execution_count": 18,
   "metadata": {},
   "outputs": [],
   "source": [
    "def save_config(config):\n",
    "    conf = config\n",
    "    file_path = 'config.pickle'  # Path to the file where you want to save the object\n",
    "    with open(file_path, 'wb') as file:\n",
    "        pickle.dump(config, file)\n"
   ]
  },
  {
   "cell_type": "code",
   "execution_count": 19,
   "metadata": {},
   "outputs": [
    {
     "name": "stdout",
     "output_type": "stream",
     "text": [
      "<class '__main__.Config'>\n"
     ]
    }
   ],
   "source": [
    "SRC_DIR = os.getcwd()\n",
    "config_path = '/home/leshkar/Desktop/BGU/configs/config.json'  \n",
    "args = get_args(config_path)\n",
    "config = read_config(args)\n",
    "save_config(config)\n",
    "print(type(config))\n",
    "gpu_init()\n",
    "set_logger_and_tracker(config)\n",
    "#save_scripts(config,SRC_DIR)\n",
    "#print_config(config)\n"
   ]
  },
  {
   "attachments": {},
   "cell_type": "markdown",
   "metadata": {},
   "source": [
    "#### config properties"
   ]
  },
  {
   "cell_type": "code",
   "execution_count": 11,
   "metadata": {},
   "outputs": [
    {
     "name": "stdout",
     "output_type": "stream",
     "text": [
      "B_chirp: 50000000.0\n",
      "CBBCE_penalize_interference: False\n",
      "CBBCE_penalize_margin: 5\n",
      "CBBCE_penalize_snr_use_geom_space: False\n",
      "CBBCE_predefined_weight: 0\n",
      "CBBCE_use_penalize_margin: False\n",
      "CBBCE_use_penalize_snr: False\n",
      "CNR_db: 15\n",
      "FOV: 60\n",
      "K: 64\n",
      "L: 10\n",
      "M_test: 10000\n",
      "M_train: 10000\n",
      "M_valid: 1000\n",
      "N: 64\n",
      "SCNR_db: -5\n",
      "SCNR_db_random_choice: False\n",
      "SCNR_db_random_constant: False\n",
      "SCNR_db_range: [-5, 10]\n",
      "SCNRs_eval: [-10, -7.5, -5, -2.5, 0, 2.5, 5, 7.5, 10]\n",
      "T_PRI: 0.001\n",
      "T_idle: 5e-05\n",
      "activation: tanh\n",
      "activation_sweep_list: ['relu', 'tanh']\n",
      "additive_noise_std: 1.0\n",
      "augment_list: []\n",
      "augment_prob: 0.5\n",
      "batch_size: 256\n",
      "batch_size_sweep_list: [32, 64, 128, 256, 512]\n",
      "beamforming_method_sweep_list: ['MVDR', 'MUSIC', 'MLE']\n",
      "cfar_guard_cell: [0.1, 0.1, 0.1]\n",
      "cfar_method: ca\n",
      "cfar_num_censor_cells_largest: 0.25\n",
      "cfar_num_censor_cells_largest_sweep_list: [0.1, 0.25, 0.5, 0.75]\n",
      "cfar_num_censor_cells_smallest: 0.25\n",
      "cfar_os_order_statistic: 0.5\n",
      "cfar_os_order_statistic_sweep_list: [0.25, 0.5, 0.75]\n",
      "cfar_single_param: []\n",
      "cfar_window_size: [0.1, 0.1, 0.1]\n",
      "cfar_window_size_sweep_list: [[0.2, 0.2, 0.2], [0.15, 0.15, 0.15], [0.1, 0.1, 0.1], [0.05, 0.05, 0.05]]\n",
      "col_shift: 32\n",
      "compound_gaussian_add_wgn: False\n",
      "compound_gaussian_constant_clutter_vel: None\n",
      "compound_gaussian_dims: 2\n",
      "compound_gaussian_gamma_shapes_eval: [0.5]\n",
      "compound_gaussian_random_gamma_shape: True\n",
      "compound_gaussian_single_clutter_vel: True\n",
      "con_inf_rng_path: \n",
      "con_inf_use_model_only: False\n",
      "con_inf_use_projection_only: False\n",
      "con_inf_vel_path: \n",
      "data_merge_size_sweep_list: [0.25, 0.5, 0.75]\n",
      "data_name: ipix\n",
      "dense_dropout: None\n",
      "dense_sizes: [2048, 1024, 512]\n",
      "dense_sizes_sweep_list: [[2048, 1024, 512], [256, 512, 1024, 512], [2048, 1024, 512, 256], [256, 1024, 4096, 512], [256, 2048, 1024, 512], [256, 512, 2048, 1024, 256, 64], [512, 2048, 256, 32], [256, 1024, 128, 32]]\n",
      "detection_exp_type: pd\n",
      "detection_pfa_miss_M_valid: 5000\n",
      "dummy_config: \n",
      "dummy_config_sweep_list: ['']\n",
      "early_stop_metric: val_loss\n",
      "early_stop_mode: min\n",
      "early_stop_patience: 0.3333\n",
      "embedded_target: False\n",
      "embedded_target_azm_offset: 10.0\n",
      "embedded_target_vel_offset: 1.0\n",
      "estimation_params: ['vel']\n",
      "eval_model_pth: \n",
      "evaluation_sets: ['test']\n",
      "exp_name: temp\n",
      "exp_name_time: temp_2023-07-05_13-17-29_6573810443709555\n",
      "f_c: 9390000000.0\n",
      "f_s: 1000000.0\n",
      "fc_batchnorm: False\n",
      "fit_verbose: 2\n",
      "gamma_shape: 0.25\n",
      "gamma_shape_range: [0.1, 1.5]\n",
      "ipix_cdf_files_list: []\n",
      "ipix_cv_mode: False\n",
      "ipix_cv_rng_pth: ../results/IPIX_3m_HH_K64_8targets_CV_twostage_fc_rng/IPIX_3m_HH_K64_8targets_CV_twostage_fc_rng_2022-03-12_17-29-13_405075\n",
      "ipix_cv_script: main_train\n",
      "ipix_cv_vel_pth: ../results/IPIX_3m_HH_K64_8targets_CV_twostage_fc_vel/IPIX_3m_HH_K64_8targets_CV_twostage_fc_vel_2022-03-12_09-02-17_826518\n",
      "ipix_file_range_bins: True\n",
      "ipix_max_nrange_bins: 27\n",
      "ipix_pkl_cv_hold_out: \n",
      "ipix_pkl_path: \n",
      "ipix_pkl_path_dir: /home/leshkar/Desktop/RD_NN-main/datasets/IPIX/15m/pkl/hh\n",
      "ipix_predefined_cv_iters: []\n",
      "ipix_random_shift_doppler: True\n",
      "ipix_skip_cv_iters: []\n",
      "l2_reg_parameter: 0.0001\n",
      "l2_reg_parameter_sweep_list: [0.1, 0.01, 0.001, 0.0001, 1e-05]\n",
      "leaky_alpha: 0.1\n",
      "learning_rate: 0.001\n",
      "learning_rate_sweep_list: [0.01, 0.001]\n",
      "load_complete_model: False\n",
      "load_model_path: \n",
      "lr_deriv_decay: 0.905\n",
      "lr_deriv_epoch_threshold: 0.3\n",
      "lr_deriv_min_delta: -0.0001\n",
      "lr_deriv_period: 4\n",
      "lr_scheduler_decay: 0.905\n",
      "lr_scheduler_epoch_threshold: 0.4\n",
      "lr_scheduler_period: 5\n",
      "lr_scheduler_plateau_cooldown: 5\n",
      "lr_scheduler_plateau_decay: 0.905\n",
      "lr_scheduler_plateau_epoch_threshold: 0.05\n",
      "lr_scheduler_plateau_window: 10\n",
      "mc_iteration: 0\n",
      "mc_iteration_sweep_list: [0, 1, 2, 3, 4, 5, 6, 7, 8, 9, 10, 11, 12, 13, 14, 15, 16, 17, 18, 19, 20, 21, 22, 23, 24, 25, 26, 27, 28, 29, 30, 31, 32, 33, 34, 35, 36, 37, 38, 39, 40, 41, 42, 43, 44, 45, 46, 47, 48, 49, 50, 51, 52, 53, 54, 55, 56, 57, 58, 59, 60, 61, 62, 63, 64, 65, 66, 67, 68, 69, 70, 71, 72, 73, 74, 75, 76, 77, 78, 79, 80, 81, 82, 83, 84, 85, 86, 87, 88, 89, 90, 91, 92, 93, 94, 95, 96, 97, 98, 99]\n",
      "mode: Detection\n",
      "model_checkpoint_best_metric: val_mse\n",
      "model_checkpoint_epoch_period: 5\n",
      "model_input_dim: [None]\n",
      "model_name: Detection-TwoStage-FC\n",
      "model_output_dim: 1\n",
      "mvdr_loading_factor_sweep_list: [0.001, 0.005, 0.01, 0.05, 0.1, 0.5, 1.0, 1.5, 10.0, 15.0]\n",
      "nnmvdr_fc_encoder_dim_sweep_list: [128, 64, 16, 8, 4]\n",
      "num_epochs: 300\n",
      "num_targets: 8\n",
      "num_targets_sweep_list: [1, 2, 3, 4, 5, 6, 7, 8]\n",
      "optimizer: adam\n",
      "point_cloud_reconstruction: True\n",
      "point_cloud_reconstruction_2d: False\n",
      "point_cloud_reconstruction_3d: False\n",
      "point_cloud_reconstruction_3d_margins: [3.0, 0.2496006389776358, 9.594]\n",
      "point_cloud_reconstruction_bin_guard_margin: [1, 1, 0]\n",
      "point_cloud_reconstruction_dim: 64\n",
      "point_cloud_reconstruction_dim_sweep_list: [32, 64, 128, 256]\n",
      "point_cloud_reconstruction_fft_dim_factor: 1\n",
      "point_cloud_reconstruction_fft_dims: True\n",
      "point_cloud_reconstruction_pFA_values: [1e-05, 5e-05, 0.0001, 0.0005, 0.001]\n",
      "quiet: False\n",
      "r_0_max: 465\n",
      "r_0_min: 0\n",
      "random_SCNR: True\n",
      "random_num_targets: True\n",
      "row_shift: 32\n",
      "save_final_model: True\n",
      "save_fit_history: True\n",
      "scale_sweep_list: [0.5, 1, 2]\n",
      "seed: 6573810443709555\n",
      "sigma_f: 0.05\n",
      "signal_physical_phase: True\n",
      "signal_random_phase: True\n",
      "stop_max_acc: False\n",
      "sweep_dict: OrderedDict([('mc_iteration', True), ('num_targets', False), ('learning_rate', False), ('activation', False), ('batch_size', False), ('l2_reg_parameter', False), ('dense_sizes', False), ('two_stage_fc_dims', False), ('two_stage_fc_dense_sizes', False), ('two_stage_fc_use_batch_norm', False), ('two_stage_fc_dropout_rate', False), ('CBBCE_predefined_weight', False), ('point_cloud_reconstruction_CBBCE_gaussian_smoothing_std', False), ('point_cloud_reconstruction_dim', False), ('use_lr_scheduler', False), ('use_lr_scheduler_deriv', False), ('cfar_window_size', False), ('beamforming_method', False), ('cfar_os_order_statistic', False), ('cfar_num_censor_cells_largest', False), ('augment_list', False), ('dummy_config', False), ('mvdr_loading_factor', False)])\n",
      "sweep_run_eval: True\n",
      "sweep_run_eval_con_inf: False\n",
      "tensor_board_dir: ../results/temp/temp_2023-07-05_13-17-29_6573810443709555\n",
      "trainer_name: detection_classification\n",
      "two_stage_fc_dense_batchnorm: None\n",
      "two_stage_fc_dense_dropout: []\n",
      "two_stage_fc_dense_sizes: []\n",
      "two_stage_fc_dense_sizes_sweep_list: [[128, 32], [512, 256, 128], [1024, 256], [512, 64]]\n",
      "two_stage_fc_dims: [[128, 1024], [16, 256], [4, 128]]\n",
      "two_stage_fc_dims_sweep_list: [[[32, 128], [128, 1024], [256, 2048], [64, 512], [16, 256]], [[32, 64], [128, 512], [64, 256], [8, 128]], [[64, 128], [128, 512], [32, 256], [16, 128]], [[128, 1024], [16, 256], [8, 128], [2, 32]], [[128, 1024], [16, 256], [4, 128]]]\n",
      "two_stage_fc_dropout_rate: [0.0, 0.0, 0.0, 0.0, 0.0, 0.0, 0.0, 0.0, 0.0, 0.0]\n",
      "two_stage_fc_dropout_rate_sweep_list: [[0.0, 0.0, 0.0], [0.0, 0.25, 0.0], [0.0, 0.5, 0.0], [0.25, 0.0, 0.25], [0.5, 0.5, 0.5]]\n",
      "two_stage_fc_stdize: True\n",
      "two_stage_fc_use_batch_norm: [False, False, False, False, False, False, False, False, False, False]\n",
      "two_stage_fc_use_batch_norm_sweep_list: [[False, False, False], [True, True, True], [True, False, True], [False, True, False]]\n",
      "two_stage_fc_use_gap: False\n",
      "use_CBBCE: True\n",
      "use_early_stop: True\n",
      "use_lr_scheduler: False\n",
      "use_lr_scheduler_deriv: False\n",
      "use_lr_scheduler_deriv_sweep_list: [True, False]\n",
      "use_lr_scheduler_plateau: True\n",
      "use_lr_scheduler_sweep_list: [True, False]\n",
      "use_model_checkpoint_best: False\n",
      "v_0_max: 7.5\n",
      "v_0_min: -7.5\n",
      "v_r_max: 7.5\n",
      "v_r_min: -7.5\n",
      "without_target_ratio: 1.0\n",
      "without_target_ratio_test: 0.5\n"
     ]
    }
   ],
   "source": [
    "config_properties = list(config)\n",
    "config_properties.sort()\n",
    "\n",
    "for attr_name in config_properties:\n",
    "    attr_value = config[attr_name]\n",
    "    print(f'{attr_name}: {attr_value}')\n"
   ]
  }
 ],
 "metadata": {
  "kernelspec": {
   "display_name": "Python 3",
   "language": "python",
   "name": "python3"
  },
  "language_info": {
   "codemirror_mode": {
    "name": "ipython",
    "version": 3
   },
   "file_extension": ".py",
   "mimetype": "text/x-python",
   "name": "python",
   "nbconvert_exporter": "python",
   "pygments_lexer": "ipython3",
   "version": "3.10.6"
  },
  "orig_nbformat": 4
 },
 "nbformat": 4,
 "nbformat_minor": 2
}
