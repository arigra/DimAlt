{
 "cells": [
  {
   "cell_type": "code",
   "execution_count": 6,
   "metadata": {},
   "outputs": [],
   "source": [
    "import os\n",
    "import pickle\n",
    "import numpy as np\n",
    "import netCDF4 as nc\n",
    "import matplotlib.pyplot as plt"
   ]
  },
  {
   "cell_type": "code",
   "execution_count": 7,
   "metadata": {},
   "outputs": [],
   "source": [
    "def ncVaraible_to_numpy(var):\n",
    "    # type(var) == netCDF4._netCDF4.Variable\n",
    "    value = var[:]\n",
    "    mask = (value < -99999.98) & (value > -100000.00)\n",
    "    value = np.ma.MaskedArray(value, mask=mask).data\n",
    "    return value\n"
   ]
  },
  {
   "cell_type": "code",
   "execution_count": 8,
   "metadata": {},
   "outputs": [],
   "source": [
    "def ipixload(cdf_path, pol='vv', adc_like_I=None, adc_like_Q=None, adc_cross_I=None, adc_cross_Q=None):\n",
    "    \"\"\"\n",
    "    python script to parse IPIX radar dataset.\n",
    "    reference: http://soma.ece.mcmaster.ca/ipix/dartmouth/cdfhowto.html\n",
    "\n",
    "    \"\"\"\n",
    "\n",
    "    #read raw data\n",
    "    rootgrp = nc.Dataset(cdf_path, \"r\")\n",
    "    rng_bins = ncVaraible_to_numpy(rootgrp.variables['range'])\n",
    "    adc_data = ncVaraible_to_numpy(rootgrp.variables['adc_data'])\n",
    "\n",
    "    adc_like_I = ncVaraible_to_numpy(rootgrp.variables['adc_like_I']) if adc_like_I is None else adc_like_I\n",
    "    adc_like_Q = ncVaraible_to_numpy(rootgrp.variables['adc_like_Q']) if adc_like_Q is None else adc_like_Q\n",
    "    adc_cross_I = ncVaraible_to_numpy(rootgrp.variables['adc_cross_I']) if adc_cross_I is None else adc_cross_I\n",
    "    adc_cross_Q = ncVaraible_to_numpy(rootgrp.variables['adc_cross_Q']) if adc_cross_Q is None else adc_cross_Q\n",
    "\n",
    "    # extract desired polarization\n",
    "    H_txpol = 0\n",
    "    V_txpol = 1\n",
    "    if pol == 'hh':\n",
    "        xiq = adc_data[:,H_txpol,:,[adc_like_I, adc_like_Q]]\n",
    "    elif pol == 'hv':\n",
    "        xiq = adc_data[:, H_txpol, :, [adc_cross_I, adc_cross_Q]]\n",
    "    elif pol == 'vv':\n",
    "        xiq = adc_data[:, V_txpol, :, [adc_like_I, adc_like_Q]]\n",
    "    elif pol == 'vh':\n",
    "        xiq = adc_data[:, V_txpol, :, [adc_cross_I, adc_cross_Q]]\n",
    "    else:\n",
    "        raise Exception(' ')\n",
    "    xiq = np.transpose(xiq, [2, 1, 0])\n",
    "\n",
    "    # apply corrections to I and Q data, correction is applied per range bin\n",
    "    iq_mean = np.expand_dims(np.mean(xiq, 1), 1)\n",
    "    iq_std = np.expand_dims(np.std(xiq, 1), 1)\n",
    "    xiq = (xiq - iq_mean) / iq_std\n",
    "    I = xiq[:, :, 0]\n",
    "    Q = xiq[:, :, 1]\n",
    "    sin_beta = np.expand_dims(np.mean(I * Q, 1), 1)\n",
    "    inbal = np.arcsin(sin_beta) * 180/np.pi\n",
    "    I = (I - Q * sin_beta) / np.sqrt(1 - sin_beta ** 2)\n",
    "\n",
    "    return I, Q, iq_mean, iq_std"
   ]
  },
  {
   "cell_type": "code",
   "execution_count": 9,
   "metadata": {},
   "outputs": [],
   "source": [
    "def parse_ipix_data(cdf_path, pol, adc_like_I, adc_like_Q, adc_cross_I, adc_cross_Q):\n",
    "    # assert config.f_c == np.expand_dims(ncVaraible_to_numpy(rootgrp.variables['RF_frequency']), 0)[0]*1e9\n",
    "    rootgrp = nc.Dataset(cdf_path, \"r\")\n",
    "\n",
    "    f_c = np.expand_dims(ncVaraible_to_numpy(rootgrp.variables['RF_frequency']), 0)[0]*1e9\n",
    "    PRI = 1 / np.expand_dims(ncVaraible_to_numpy(rootgrp.variables['PRF']), 0)[0]\n",
    "    rng_bins = ncVaraible_to_numpy(rootgrp.variables['range'])\n",
    "    rng_bins = np.around(rng_bins, 1)\n",
    "    B = (3e8 / (2 * np.diff(rng_bins)[0]))\n",
    "    # load data\n",
    "    I, Q, iq_mean, iq_std = ipixload(cdf_path, pol, adc_like_I, adc_like_Q, adc_cross_I, adc_cross_Q)\n",
    "    iq_mean = np.squeeze(iq_mean, 1)\n",
    "    iq_std = np.squeeze(iq_std, 1)\n",
    "    X = np.expand_dims(iq_std[:,0], 1)*I + 1j*np.expand_dims(iq_std[:,1], 1)*Q\n",
    "\n",
    "    return X, PRI, rng_bins, B\n"
   ]
  },
  {
   "cell_type": "code",
   "execution_count": 10,
   "metadata": {},
   "outputs": [
    {
     "name": "stdout",
     "output_type": "stream",
     "text": [
      "19980205_171203_ANTSTEP.CDF\n",
      "19980205_175943_ANTSTEP.CDF\n",
      "19980205_192053_ANTSTEP.CDF\n",
      "19980205_180308_ANTSTEP.CDF\n",
      "19980205_171654_ANTSTEP.CDF\n",
      "19980205_175642_ANTSTEP.CDF\n",
      "19980205_170935_ANTSTEP.CDF\n",
      "19980205_180558_ANTSTEP.CDF\n",
      "19980205_184733_ANTSTEP.CDF\n",
      "19980205_190524_ANTSTEP.CDF\n",
      "19980205_191043_ANTSTEP.CDF\n",
      "19980205_171437_ANTSTEP.CDF\n",
      "19980205_185111_ANTSTEP.CDF\n",
      "19980205_184403_ANTSTEP.CDF\n",
      "19980205_185421_ANTSTEP.CDF\n",
      "19980205_184038_ANTSTEP.CDF\n",
      "19980205_191536_ANTSTEP.CDF\n",
      "19980205_183709_ANTSTEP.CDF\n",
      "19980205_183327_ANTSTEP.CDF\n"
     ]
    }
   ],
   "source": [
    "\n",
    "pol = 'hh'\n",
    "# cdf_dir = '../datasets/IPIX/3m/cdf'\n",
    "# pkl_dir = '../datasets/IPIX/3m/pkl/' + pol\n",
    "cdf_dir = '/Users/arigra/Desktop/DL projects/Dafc/datasets/IPIX/15m/cdf'\n",
    "pkl_dir = '/Users/arigra/Desktop/DL projects/Dafc/datasets/IPIX/15m/pkl1/' + pol\n",
    "cdf_path_list = [f for f in os.listdir(cdf_dir) if not f.startswith('.')]\n",
    "\n",
    "for cdf_path in cdf_path_list:\n",
    "    print(cdf_path)\n",
    "\n",
    "    cdf_path = os.path.join(cdf_dir, cdf_path)\n",
    "    X, PRI, rng_bins, B = parse_ipix_data(cdf_path, pol=pol, adc_like_I=2, adc_like_Q=3, adc_cross_I=0, adc_cross_Q=1)\n",
    "    # dump to pkl_file\n",
    "    dir_name = pkl_dir\n",
    "    if not os.path.exists(dir_name):\n",
    "        os.makedirs(dir_name)\n",
    "    pkl_file_name = os.path.basename(cdf_path).replace(\".CDF\",\"\") + \"_pol_\" + pol + \".pkl\"\n",
    "\n",
    "    pickle.dump({\"PRI\": PRI, \"rng_bins\": rng_bins, \"B\": B,\"adc_data\": X}, open(os.path.join(dir_name, pkl_file_name), 'wb'), protocol=3)"
   ]
  }
 ],
 "metadata": {
  "kernelspec": {
   "display_name": "Python 3",
   "language": "python",
   "name": "python3"
  },
  "language_info": {
   "codemirror_mode": {
    "name": "ipython",
    "version": 3
   },
   "file_extension": ".py",
   "mimetype": "text/x-python",
   "name": "python",
   "nbconvert_exporter": "python",
   "pygments_lexer": "ipython3",
   "version": "3.11.4"
  },
  "orig_nbformat": 4
 },
 "nbformat": 4,
 "nbformat_minor": 2
}
